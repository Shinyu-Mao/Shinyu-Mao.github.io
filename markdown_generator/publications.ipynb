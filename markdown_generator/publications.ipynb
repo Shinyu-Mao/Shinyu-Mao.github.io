{
 "cells": [
  {
   "cell_type": "markdown",
   "metadata": {
    "deletable": true,
    "editable": true
   },
   "source": [
    "# Publications markdown generator for academicpages\n",
    "\n",
    "Takes a TSV of publications with metadata and converts them for use with [academicpages.github.io](academicpages.github.io). This is an interactive Jupyter notebook ([see more info here](http://jupyter-notebook-beginner-guide.readthedocs.io/en/latest/what_is_jupyter.html)). The core python code is also in `publications.py`. Run either from the `markdown_generator` folder after replacing `publications.tsv` with one containing your data.\n",
    "\n",
    "TODO: Make this work with BibTex and other databases of citations, rather than Stuart's non-standard TSV format and citation style.\n"
   ]
  },
  {
   "cell_type": "markdown",
   "metadata": {},
   "source": [
    "## Data format\n",
    "\n",
    "The TSV needs to have the following columns: pub_date, title, venue, excerpt, citation, site_url, and paper_url, with a header at the top. \n",
    "\n",
    "- `excerpt` and `paper_url` can be blank, but the others must have values. \n",
    "- `pub_date` must be formatted as YYYY-MM-DD.\n",
    "- `url_slug` will be the descriptive part of the .md file and the permalink URL for the page about the paper. The .md file will be `YYYY-MM-DD-[url_slug].md` and the permalink will be `https://[yourdomain]/publications/YYYY-MM-DD-[url_slug]`\n",
    "\n",
    "This is how the raw file looks (it doesn't look pretty, use a spreadsheet or other program to edit and create)."
   ]
  },
  {
   "cell_type": "code",
   "metadata": {
    "collapsed": false,
    "ExecuteTime": {
     "end_time": "2024-11-27T17:52:24.599499Z",
     "start_time": "2024-11-27T17:52:24.465859Z"
    }
   },
   "source": [
    "!cat publications.tsv"
   ],
   "outputs": [
    {
     "name": "stdout",
     "output_type": "stream",
     "text": [
      "pub_date\ttitle\tvenue\texcerpt\tcitation\turl_slug\tpaper_url\tslides_url\r\n",
      "2022-11-19\t\"Preserving the Privacy\r\n",
      "and Cybersecurity of Home Energy Data\"\tEmerging Trends in Cybersecurity Applications\tThis paper is about the number 1. The number 2 is left for future work.\t\"Richard Bean, Yanjun Zhang, Ryan KL Ko, Xinyu Mao and Guangdong Bai. 2023. Preserving the Privacy\r\n",
      "and Cybersecurity of Home Energy Data. Emerging Trends in Cybersecurity Applications. Springer Publishing.\"\t\"Preserving the Privacy\r\n",
      "and Cybersecurity of Home Energy Data\"\thttps://pure.rug.nl/ws/portalfiles/portal/563519192/978_3_031_09640_2.pdf#page=328\thttp://academicpages.github.io/files/slides3.pdf\r\n",
      "2022-12-15\tRobustness of Neural Rankers to Typos: A Comparative Study\tProceedings of the 26th Australasian Document Computing Symposium\tThis paper is about the number 2. The number 3 is left for future work.\t\"Shengyao Zhuang, Xinyu Mao and Guido Zuccon. 2022. Robustness of Neural Rankers to Typos: A Comparative Study. In Proceedings of the 26th Australasian Document Computing Symposium (ADCS22).\"\t\thttps://ielab.io/publications/adcs2022-typos/adcs2022-comparative-study.pdf\thttp://academicpages.github.io/files/slides3.pdf\r\n",
      "2024-03-15\tA Reproducibility Study of Goldilocks: Just-Right Tuning of BERT for TAR\tProceedings of the 46th European Conference on Information Retrieval\tThis paper is about the number 3. The number 4 is left for future work.\t\"Xinyu Mao, Bevan Koopman and Guido Zuccon. 2024. A Reproducibility Study of Goldilocks: Just-Right Tuning of BERT for TAR. In Proceedings of the 46th European Conference on Information Retrieval (ECIR 2024).\"\tA Reproducibility Study of Goldilocks: Just-Right Tuning of BERT for TAR\thttp://academicpages.github.io/files/paper3.pdf\thttp://academicpages.github.io/files/slides3.pdf\r\n",
      "2024-07-10\tDense Retrieval with Continuous Explicit Feedback for Systematic Review Screening Prioritisation\tProceedings of the 47th International ACM SIGIR Conference on Research and Development in Information Retrieval\tThis paper is about the number 1. The number 2 is left for future work.\t\"Xinyu Mao, Shengyao Zhuang, Bevan Koopman and Guido Zuccon. 2024. Dense Retrieval with Continuous Explicit Feedback for Systematic Review Screening Prioritisation. In Proceedings of the 47th International ACM SIGIR Conference on Research and Development in Information Retrieval (SIGIR 2024).\"\tDense Retrieval with Continuous Explicit Feedback for Systematic Review Screening Prioritisation\thttps://arxiv.org/pdf/2407.00635\thttp://academicpages.github.io/files/slides3.pdf"
     ]
    }
   ],
   "execution_count": 11
  },
  {
   "cell_type": "markdown",
   "metadata": {},
   "source": [
    "## Import pandas\n",
    "\n",
    "We are using the very handy pandas library for dataframes."
   ]
  },
  {
   "cell_type": "code",
   "metadata": {
    "collapsed": true,
    "deletable": true,
    "editable": true,
    "ExecuteTime": {
     "end_time": "2024-11-27T17:44:53.295128Z",
     "start_time": "2024-11-27T17:44:51.143513Z"
    }
   },
   "source": [
    "import pandas as pd"
   ],
   "outputs": [],
   "execution_count": 3
  },
  {
   "cell_type": "markdown",
   "metadata": {},
   "source": [
    "## Import TSV\n",
    "\n",
    "Pandas makes this easy with the read_csv function. We are using a TSV, so we specify the separator as a tab, or `\\t`.\n",
    "\n",
    "I found it important to put this data in a tab-separated values format, because there are a lot of commas in this kind of data and comma-separated values can get messed up. However, you can modify the import statement, as pandas also has read_excel(), read_json(), and others."
   ]
  },
  {
   "cell_type": "code",
   "metadata": {
    "collapsed": false,
    "deletable": true,
    "editable": true,
    "ExecuteTime": {
     "end_time": "2024-11-27T17:57:46.548681Z",
     "start_time": "2024-11-27T17:57:46.536337Z"
    }
   },
   "source": [
    "publications = pd.read_csv(\"publications.tsv\", sep=\"\\t\", header=0)\n",
    "publications\n"
   ],
   "outputs": [
    {
     "data": {
      "text/plain": [
       "     pub_date                                              title  \\\n",
       "0  2022-11-19  Preserving the Privacy\\nand Cybersecurity of H...   \n",
       "1  2022-12-15  Robustness of Neural Rankers to Typos: A Compa...   \n",
       "2  2024-03-15  A Reproducibility Study of Goldilocks: Just-Ri...   \n",
       "3  2024-07-10  Dense Retrieval with Continuous Explicit Feedb...   \n",
       "\n",
       "                                               venue  \\\n",
       "0      Emerging Trends in Cybersecurity Applications   \n",
       "1  Proceedings of the 26th Australasian Document ...   \n",
       "2  Proceedings of the 46th European Conference on...   \n",
       "3  Proceedings of the 47th International ACM SIGI...   \n",
       "\n",
       "                                             excerpt  \\\n",
       "0  This paper is about the number 1. The number 2...   \n",
       "1  This paper is about the number 2. The number 3...   \n",
       "2  This paper is about the number 3. The number 4...   \n",
       "3  This paper is about the number 1. The number 2...   \n",
       "\n",
       "                                            citation              url_slug  \\\n",
       "0  Richard Bean, Yanjun Zhang, Ryan KL Ko, Xinyu ...   Privacy-home-energy   \n",
       "1  Shengyao Zhuang, Xinyu Mao and Guido Zuccon. 2...   neural-ranker-typos   \n",
       "2  Xinyu Mao, Bevan Koopman and Guido Zuccon. 202...  goldilocks-reproduce   \n",
       "3  Xinyu Mao, Shengyao Zhuang, Bevan Koopman and ...        dense-feedback   \n",
       "\n",
       "                                           paper_url  \\\n",
       "0  https://pure.rug.nl/ws/portalfiles/portal/5635...   \n",
       "1  https://ielab.io/publications/adcs2022-typos/a...   \n",
       "2    http://academicpages.github.io/files/paper3.pdf   \n",
       "3                   https://arxiv.org/pdf/2407.00635   \n",
       "\n",
       "                                         slides_url  \n",
       "0  http://academicpages.github.io/files/slides3.pdf  \n",
       "1  http://academicpages.github.io/files/slides3.pdf  \n",
       "2  http://academicpages.github.io/files/slides3.pdf  \n",
       "3  http://academicpages.github.io/files/slides3.pdf  "
      ],
      "text/html": [
       "<div>\n",
       "<style scoped>\n",
       "    .dataframe tbody tr th:only-of-type {\n",
       "        vertical-align: middle;\n",
       "    }\n",
       "\n",
       "    .dataframe tbody tr th {\n",
       "        vertical-align: top;\n",
       "    }\n",
       "\n",
       "    .dataframe thead th {\n",
       "        text-align: right;\n",
       "    }\n",
       "</style>\n",
       "<table border=\"1\" class=\"dataframe\">\n",
       "  <thead>\n",
       "    <tr style=\"text-align: right;\">\n",
       "      <th></th>\n",
       "      <th>pub_date</th>\n",
       "      <th>title</th>\n",
       "      <th>venue</th>\n",
       "      <th>excerpt</th>\n",
       "      <th>citation</th>\n",
       "      <th>url_slug</th>\n",
       "      <th>paper_url</th>\n",
       "      <th>slides_url</th>\n",
       "    </tr>\n",
       "  </thead>\n",
       "  <tbody>\n",
       "    <tr>\n",
       "      <th>0</th>\n",
       "      <td>2022-11-19</td>\n",
       "      <td>Preserving the Privacy\\nand Cybersecurity of H...</td>\n",
       "      <td>Emerging Trends in Cybersecurity Applications</td>\n",
       "      <td>This paper is about the number 1. The number 2...</td>\n",
       "      <td>Richard Bean, Yanjun Zhang, Ryan KL Ko, Xinyu ...</td>\n",
       "      <td>Privacy-home-energy</td>\n",
       "      <td>https://pure.rug.nl/ws/portalfiles/portal/5635...</td>\n",
       "      <td>http://academicpages.github.io/files/slides3.pdf</td>\n",
       "    </tr>\n",
       "    <tr>\n",
       "      <th>1</th>\n",
       "      <td>2022-12-15</td>\n",
       "      <td>Robustness of Neural Rankers to Typos: A Compa...</td>\n",
       "      <td>Proceedings of the 26th Australasian Document ...</td>\n",
       "      <td>This paper is about the number 2. The number 3...</td>\n",
       "      <td>Shengyao Zhuang, Xinyu Mao and Guido Zuccon. 2...</td>\n",
       "      <td>neural-ranker-typos</td>\n",
       "      <td>https://ielab.io/publications/adcs2022-typos/a...</td>\n",
       "      <td>http://academicpages.github.io/files/slides3.pdf</td>\n",
       "    </tr>\n",
       "    <tr>\n",
       "      <th>2</th>\n",
       "      <td>2024-03-15</td>\n",
       "      <td>A Reproducibility Study of Goldilocks: Just-Ri...</td>\n",
       "      <td>Proceedings of the 46th European Conference on...</td>\n",
       "      <td>This paper is about the number 3. The number 4...</td>\n",
       "      <td>Xinyu Mao, Bevan Koopman and Guido Zuccon. 202...</td>\n",
       "      <td>goldilocks-reproduce</td>\n",
       "      <td>http://academicpages.github.io/files/paper3.pdf</td>\n",
       "      <td>http://academicpages.github.io/files/slides3.pdf</td>\n",
       "    </tr>\n",
       "    <tr>\n",
       "      <th>3</th>\n",
       "      <td>2024-07-10</td>\n",
       "      <td>Dense Retrieval with Continuous Explicit Feedb...</td>\n",
       "      <td>Proceedings of the 47th International ACM SIGI...</td>\n",
       "      <td>This paper is about the number 1. The number 2...</td>\n",
       "      <td>Xinyu Mao, Shengyao Zhuang, Bevan Koopman and ...</td>\n",
       "      <td>dense-feedback</td>\n",
       "      <td>https://arxiv.org/pdf/2407.00635</td>\n",
       "      <td>http://academicpages.github.io/files/slides3.pdf</td>\n",
       "    </tr>\n",
       "  </tbody>\n",
       "</table>\n",
       "</div>"
      ]
     },
     "execution_count": 18,
     "metadata": {},
     "output_type": "execute_result"
    }
   ],
   "execution_count": 18
  },
  {
   "cell_type": "markdown",
   "metadata": {},
   "source": [
    "## Escape special characters\n",
    "\n",
    "YAML is very picky about how it takes a valid string, so we are replacing single and double quotes (and ampersands) with their HTML encoded equivilents. This makes them look not so readable in raw format, but they are parsed and rendered nicely."
   ]
  },
  {
   "cell_type": "code",
   "metadata": {
    "collapsed": true,
    "deletable": true,
    "editable": true,
    "ExecuteTime": {
     "end_time": "2024-11-27T17:57:52.073381Z",
     "start_time": "2024-11-27T17:57:52.070218Z"
    }
   },
   "source": [
    "html_escape_table = {\n",
    "    \"&\": \"&amp;\",\n",
    "    '\"': \"&quot;\",\n",
    "    \"'\": \"&apos;\"\n",
    "    }\n",
    "\n",
    "def html_escape(text):\n",
    "    \"\"\"Produce entities within text.\"\"\"\n",
    "    return \"\".join(html_escape_table.get(c,c) for c in text)"
   ],
   "outputs": [],
   "execution_count": 19
  },
  {
   "cell_type": "markdown",
   "metadata": {},
   "source": [
    "## Creating the markdown files\n",
    "\n",
    "This is where the heavy lifting is done. This loops through all the rows in the TSV dataframe, then starts to concatentate a big string (```md```) that contains the markdown for each type. It does the YAML metadata first, then does the description for the individual page."
   ]
  },
  {
   "cell_type": "code",
   "metadata": {
    "collapsed": false,
    "deletable": true,
    "editable": true,
    "ExecuteTime": {
     "end_time": "2024-11-27T17:58:00.426744Z",
     "start_time": "2024-11-27T17:58:00.420021Z"
    }
   },
   "source": [
    "import os\n",
    "for row, item in publications.iterrows():\n",
    "    \n",
    "    md_filename = str(item.pub_date) + \"-\" + item.url_slug + \".md\"\n",
    "    html_filename = str(item.pub_date) + \"-\" + item.url_slug\n",
    "    year = item.pub_date[:4]\n",
    "    \n",
    "    ## YAML variables\n",
    "    \n",
    "    md = \"---\\ntitle: \\\"\"   + item.title + '\"\\n'\n",
    "    \n",
    "    md += \"\"\"collection: publications\"\"\"\n",
    "    \n",
    "    md += \"\"\"\\npermalink: /publication/\"\"\" + html_filename\n",
    "    \n",
    "    if len(str(item.excerpt)) > 5:\n",
    "        md += \"\\nexcerpt: '\" + html_escape(item.excerpt) + \"'\"\n",
    "    \n",
    "    md += \"\\ndate: \" + str(item.pub_date) \n",
    "    \n",
    "    md += \"\\nvenue: '\" + html_escape(item.venue) + \"'\"\n",
    "    \n",
    "    if len(str(item.slides_url)) > 5:\n",
    "        md += \"\\nslidesurl: '\" + item.slides_url + \"'\"\n",
    "\n",
    "    if len(str(item.paper_url)) > 5:\n",
    "        md += \"\\npaperurl: '\" + item.paper_url + \"'\"\n",
    "    \n",
    "    md += \"\\ncitation: '\" + html_escape(item.citation) + \"'\"\n",
    "    \n",
    "    md += \"\\n---\"\n",
    "    \n",
    "    ## Markdown description for individual page\n",
    "        \n",
    "    if len(str(item.excerpt)) > 5:\n",
    "        md += \"\\n\" + html_escape(item.excerpt) + \"\\n\"\n",
    "\n",
    "    if len(str(item.slides_url)) > 5:\n",
    "        md += \"\\n[Download slides here](\" + item.slides_url + \")\\n\" \n",
    "\n",
    "    if len(str(item.paper_url)) > 5:\n",
    "        md += \"\\n[Download paper here](\" + item.paper_url + \")\\n\" \n",
    "        \n",
    "    md += \"\\nRecommended citation: \" + item.citation\n",
    "    \n",
    "    md_filename = os.path.basename(md_filename)\n",
    "       \n",
    "    with open(\"../_publications/\" + md_filename, 'w') as f:\n",
    "        f.write(md)"
   ],
   "outputs": [],
   "execution_count": 20
  },
  {
   "cell_type": "markdown",
   "metadata": {},
   "source": [
    "These files are in the publications directory, one directory below where we're working from."
   ]
  },
  {
   "cell_type": "code",
   "metadata": {
    "collapsed": false,
    "deletable": true,
    "editable": true,
    "ExecuteTime": {
     "end_time": "2024-11-27T17:58:03.934896Z",
     "start_time": "2024-11-27T17:58:03.798919Z"
    }
   },
   "source": [
    "!ls ../_publications/"
   ],
   "outputs": [
    {
     "name": "stdout",
     "output_type": "stream",
     "text": [
      "2009-10-01-paper-title-number-1.md\r\n",
      "2010-10-01-paper-title-number-2.md\r\n",
      "2015-10-01-paper-title-number-3.md\r\n",
      "2022-11-19-Preserving the Privacy?and Cybersecurity of Home Energy Data.md\r\n",
      "2022-11-19-Privacy-home-energy.md\r\n",
      "2022-12-15-neural-ranker-typos.md\r\n",
      "2024-02-17-paper-title-number-4.md\r\n",
      "2024-03-15-goldilocks-reproduce.md\r\n",
      "2024-07-10-dense-feedback.md\r\n"
     ]
    }
   ],
   "execution_count": 21
  },
  {
   "cell_type": "code",
   "metadata": {
    "collapsed": false,
    "deletable": true,
    "editable": true,
    "ExecuteTime": {
     "end_time": "2024-11-27T17:58:07.853472Z",
     "start_time": "2024-11-27T17:58:07.724654Z"
    }
   },
   "source": [
    "!cat ../_publications/2009-10-01-paper-title-number-1.md"
   ],
   "outputs": [
    {
     "name": "stdout",
     "output_type": "stream",
     "text": [
      "---\r\n",
      "title: \"Paper Title Number 1\"\r\n",
      "collection: publications\r\n",
      "permalink: /publication/2009-10-01-paper-title-number-1\r\n",
      "excerpt: 'This paper is about the number 1. The number 2 is left for future work.'\r\n",
      "date: 2009-10-01\r\n",
      "venue: 'Journal 1'\r\n",
      "slidesurl: 'http://academicpages.github.io/files/slides1.pdf'\r\n",
      "paperurl: 'http://academicpages.github.io/files/paper1.pdf'\r\n",
      "citation: 'Your Name, You. (2009). &quot;Paper Title Number 1.&quot; <i>Journal 1</i>. 1(1).'\r\n",
      "---\r\n",
      "\r\n",
      "The contents above will be part of a list of publications, if the user clicks the link for the publication than the contents of section will be rendered as a full page, allowing you to provide more information about the paper for the reader. When publications are displayed as a single page, the contents of the above \"citation\" field will automatically be included below this section in a smaller font."
     ]
    }
   ],
   "execution_count": 22
  },
  {
   "cell_type": "code",
   "execution_count": null,
   "metadata": {
    "collapsed": true,
    "deletable": true,
    "editable": true
   },
   "outputs": [],
   "source": []
  }
 ],
 "metadata": {
  "kernelspec": {
   "display_name": "Python 3",
   "language": "python",
   "name": "python3"
  },
  "language_info": {
   "codemirror_mode": {
    "name": "ipython",
    "version": 3
   },
   "file_extension": ".py",
   "mimetype": "text/x-python",
   "name": "python",
   "nbconvert_exporter": "python",
   "pygments_lexer": "ipython3",
   "version": "3.6.1"
  }
 },
 "nbformat": 4,
 "nbformat_minor": 0
}
